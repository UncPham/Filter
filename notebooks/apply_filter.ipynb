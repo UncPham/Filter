{
 "cells": [
  {
   "cell_type": "code",
   "execution_count": 1,
   "metadata": {},
   "outputs": [
    {
     "name": "stdout",
     "output_type": "stream",
     "text": [
      "Collecting dlib\n",
      "  Using cached dlib-19.24.6.tar.gz (3.4 MB)\n",
      "  Preparing metadata (setup.py): started\n",
      "  Preparing metadata (setup.py): finished with status 'done'\n",
      "Building wheels for collected packages: dlib\n",
      "  Building wheel for dlib (setup.py): started\n",
      "  Building wheel for dlib (setup.py): finished with status 'error'\n",
      "  Running setup.py clean for dlib\n",
      "Failed to build dlib\n"
     ]
    },
    {
     "name": "stderr",
     "output_type": "stream",
     "text": [
      "  error: subprocess-exited-with-error\n",
      "  \n",
      "  × python setup.py bdist_wheel did not run successfully.\n",
      "  │ exit code: 1\n",
      "  ╰─> [67 lines of output]\n",
      "      running bdist_wheel\n",
      "      running build\n",
      "      running build_ext\n",
      "      C:\\Users\\Admin\\AppData\\Local\\Temp\\pip-install-vbgy18_k\\dlib_88d93079c5f84d39b984b15727ddb9a8\\setup.py:163: DeprecationWarning: distutils Version classes are deprecated. Use packaging.version instead.\n",
      "        if LooseVersion(cmake_version) < '3.1.0':\n",
      "      Building extension for Python 3.9.19 (main, May  6 2024, 20:12:36) [MSC v.1916 64 bit (AMD64)]\n",
      "      Invoking CMake setup: 'cmake C:\\Users\\Admin\\AppData\\Local\\Temp\\pip-install-vbgy18_k\\dlib_88d93079c5f84d39b984b15727ddb9a8\\tools\\python -DCMAKE_LIBRARY_OUTPUT_DIRECTORY=C:\\Users\\Admin\\AppData\\Local\\Temp\\pip-install-vbgy18_k\\dlib_88d93079c5f84d39b984b15727ddb9a8\\build\\lib.win-amd64-cpython-39 -DPYTHON_EXECUTABLE=C:\\Users\\Admin\\anaconda3\\envs\\myenv\\python.exe -DDLIB_USE_FFMPEG=OFF -DCMAKE_LIBRARY_OUTPUT_DIRECTORY_RELEASE=C:\\Users\\Admin\\AppData\\Local\\Temp\\pip-install-vbgy18_k\\dlib_88d93079c5f84d39b984b15727ddb9a8\\build\\lib.win-amd64-cpython-39 -A x64'\n",
      "      -- Building for: NMake Makefiles\n",
      "      CMake Error at CMakeLists.txt:5 (message):\n",
      "      \n",
      "      \n",
      "      \n",
      "        !!!!!!!!!!!!!!!!!!!!!!!!!!!!!!!!!!!!!!!!!!!!!!!!!!!!!!!!!!!!!!!!!!!!!!!!!!!!!!!\n",
      "      \n",
      "      \n",
      "        You must use Visual Studio to build a python extension on windows.  If you\n",
      "        are getting this error it means you have not installed Visual C++.  Note\n",
      "        that there are many flavors of Visual Studio, like Visual Studio for C#\n",
      "        development.  You need to install Visual Studio for C++.\n",
      "      \n",
      "      \n",
      "        !!!!!!!!!!!!!!!!!!!!!!!!!!!!!!!!!!!!!!!!!!!!!!!!!!!!!!!!!!!!!!!!!!!!!!!!!!!!!!!\n",
      "      \n",
      "      \n",
      "      \n",
      "      \n",
      "      -- Configuring incomplete, errors occurred!\n",
      "      Traceback (most recent call last):\n",
      "        File \"<string>\", line 2, in <module>\n",
      "        File \"<pip-setuptools-caller>\", line 34, in <module>\n",
      "        File \"C:\\Users\\Admin\\AppData\\Local\\Temp\\pip-install-vbgy18_k\\dlib_88d93079c5f84d39b984b15727ddb9a8\\setup.py\", line 243, in <module>\n",
      "          setup(\n",
      "        File \"C:\\Users\\Admin\\anaconda3\\envs\\myenv\\lib\\site-packages\\setuptools\\__init__.py\", line 108, in setup\n",
      "          return distutils.core.setup(**attrs)\n",
      "        File \"C:\\Users\\Admin\\anaconda3\\envs\\myenv\\lib\\site-packages\\setuptools\\_distutils\\core.py\", line 185, in setup\n",
      "          return run_commands(dist)\n",
      "        File \"C:\\Users\\Admin\\anaconda3\\envs\\myenv\\lib\\site-packages\\setuptools\\_distutils\\core.py\", line 201, in run_commands\n",
      "          dist.run_commands()\n",
      "        File \"C:\\Users\\Admin\\anaconda3\\envs\\myenv\\lib\\site-packages\\setuptools\\_distutils\\dist.py\", line 969, in run_commands\n",
      "          self.run_command(cmd)\n",
      "        File \"C:\\Users\\Admin\\anaconda3\\envs\\myenv\\lib\\site-packages\\setuptools\\dist.py\", line 1221, in run_command\n",
      "          super().run_command(command)\n",
      "        File \"C:\\Users\\Admin\\anaconda3\\envs\\myenv\\lib\\site-packages\\setuptools\\_distutils\\dist.py\", line 988, in run_command\n",
      "          cmd_obj.run()\n",
      "        File \"C:\\Users\\Admin\\anaconda3\\envs\\myenv\\lib\\site-packages\\wheel\\_bdist_wheel.py\", line 378, in run\n",
      "          self.run_command(\"build\")\n",
      "        File \"C:\\Users\\Admin\\anaconda3\\envs\\myenv\\lib\\site-packages\\setuptools\\_distutils\\cmd.py\", line 318, in run_command\n",
      "          self.distribution.run_command(command)\n",
      "        File \"C:\\Users\\Admin\\anaconda3\\envs\\myenv\\lib\\site-packages\\setuptools\\dist.py\", line 1221, in run_command\n",
      "          super().run_command(command)\n",
      "        File \"C:\\Users\\Admin\\anaconda3\\envs\\myenv\\lib\\site-packages\\setuptools\\_distutils\\dist.py\", line 988, in run_command\n",
      "          cmd_obj.run()\n",
      "        File \"C:\\Users\\Admin\\anaconda3\\envs\\myenv\\lib\\site-packages\\setuptools\\_distutils\\command\\build.py\", line 131, in run\n",
      "          self.run_command(cmd_name)\n",
      "        File \"C:\\Users\\Admin\\anaconda3\\envs\\myenv\\lib\\site-packages\\setuptools\\_distutils\\cmd.py\", line 318, in run_command\n",
      "          self.distribution.run_command(command)\n",
      "        File \"C:\\Users\\Admin\\anaconda3\\envs\\myenv\\lib\\site-packages\\setuptools\\dist.py\", line 1221, in run_command\n",
      "          super().run_command(command)\n",
      "        File \"C:\\Users\\Admin\\anaconda3\\envs\\myenv\\lib\\site-packages\\setuptools\\_distutils\\dist.py\", line 988, in run_command\n",
      "          cmd_obj.run()\n",
      "        File \"C:\\Users\\Admin\\AppData\\Local\\Temp\\pip-install-vbgy18_k\\dlib_88d93079c5f84d39b984b15727ddb9a8\\setup.py\", line 168, in run\n",
      "          self.build_extension(ext)\n",
      "        File \"C:\\Users\\Admin\\AppData\\Local\\Temp\\pip-install-vbgy18_k\\dlib_88d93079c5f84d39b984b15727ddb9a8\\setup.py\", line 206, in build_extension\n",
      "          subprocess.check_call(cmake_setup, cwd=build_folder)\n",
      "        File \"C:\\Users\\Admin\\anaconda3\\envs\\myenv\\lib\\subprocess.py\", line 373, in check_call\n",
      "          raise CalledProcessError(retcode, cmd)\n",
      "      subprocess.CalledProcessError: Command '['cmake', 'C:\\\\Users\\\\Admin\\\\AppData\\\\Local\\\\Temp\\\\pip-install-vbgy18_k\\\\dlib_88d93079c5f84d39b984b15727ddb9a8\\\\tools\\\\python', '-DCMAKE_LIBRARY_OUTPUT_DIRECTORY=C:\\\\Users\\\\Admin\\\\AppData\\\\Local\\\\Temp\\\\pip-install-vbgy18_k\\\\dlib_88d93079c5f84d39b984b15727ddb9a8\\\\build\\\\lib.win-amd64-cpython-39', '-DPYTHON_EXECUTABLE=C:\\\\Users\\\\Admin\\\\anaconda3\\\\envs\\\\myenv\\\\python.exe', '-DDLIB_USE_FFMPEG=OFF', '-DCMAKE_LIBRARY_OUTPUT_DIRECTORY_RELEASE=C:\\\\Users\\\\Admin\\\\AppData\\\\Local\\\\Temp\\\\pip-install-vbgy18_k\\\\dlib_88d93079c5f84d39b984b15727ddb9a8\\\\build\\\\lib.win-amd64-cpython-39', '-A', 'x64']' returned non-zero exit status 1.\n",
      "      [end of output]\n",
      "  \n",
      "  note: This error originates from a subprocess, and is likely not a problem with pip.\n",
      "  ERROR: Failed building wheel for dlib\n",
      "ERROR: ERROR: Failed to build installable wheels for some pyproject.toml based projects (dlib)\n"
     ]
    }
   ],
   "source": [
    "!pip install dlib"
   ]
  },
  {
   "cell_type": "code",
   "execution_count": 2,
   "metadata": {},
   "outputs": [
    {
     "ename": "ModuleNotFoundError",
     "evalue": "No module named 'dlib'",
     "output_type": "error",
     "traceback": [
      "\u001b[1;31m---------------------------------------------------------------------------\u001b[0m",
      "\u001b[1;31mModuleNotFoundError\u001b[0m                       Traceback (most recent call last)",
      "Cell \u001b[1;32mIn[2], line 1\u001b[0m\n\u001b[1;32m----> 1\u001b[0m \u001b[38;5;28;01mimport\u001b[39;00m \u001b[38;5;21;01mdlib\u001b[39;00m\n\u001b[0;32m      2\u001b[0m \u001b[38;5;28;01mimport\u001b[39;00m \u001b[38;5;21;01mcv2\u001b[39;00m\n\u001b[0;32m      4\u001b[0m \u001b[38;5;66;03m# Tải mô hình dự đoán các điểm trên khuôn mặt\u001b[39;00m\n",
      "\u001b[1;31mModuleNotFoundError\u001b[0m: No module named 'dlib'"
     ]
    }
   ],
   "source": [
    "import dlib\n",
    "import cv2\n",
    "\n",
    "# Tải mô hình dự đoán các điểm trên khuôn mặt\n",
    "predictor_path = \"shape_predictor_68_face_landmarks.dat\"\n",
    "detector = dlib.get_frontal_face_detector()\n",
    "predictor = dlib.shape_predictor(predictor_path)\n",
    "\n",
    "# Đọc hình ảnh\n",
    "image = cv2.imread(\"face.png\")\n",
    "gray = cv2.cvtColor(image, cv2.COLOR_BGR2GRAY)\n",
    "\n",
    "# Phát hiện khuôn mặt\n",
    "faces = detector(gray)\n",
    "\n",
    "for face in faces:\n",
    "    landmarks = predictor(gray, face)\n",
    "    for n in range(0, 68):\n",
    "        x = landmarks.part(n).x\n",
    "        y = landmarks.part(n).y\n",
    "        cv2.circle(image, (x, y), 2, (255, 0, 0), -1)\n",
    "\n",
    "cv2.imshow(\"Landmarks\", image)\n",
    "cv2.waitKey(0)\n",
    "cv2.destroyAllWindows()\n"
   ]
  }
 ],
 "metadata": {
  "kernelspec": {
   "display_name": "myenv",
   "language": "python",
   "name": "python3"
  },
  "language_info": {
   "codemirror_mode": {
    "name": "ipython",
    "version": 3
   },
   "file_extension": ".py",
   "mimetype": "text/x-python",
   "name": "python",
   "nbconvert_exporter": "python",
   "pygments_lexer": "ipython3",
   "version": "3.9.19"
  }
 },
 "nbformat": 4,
 "nbformat_minor": 2
}
